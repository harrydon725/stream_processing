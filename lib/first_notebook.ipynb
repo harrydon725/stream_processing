{
 "cells": [
  {
   "cell_type": "code",
   "execution_count": 2,
   "id": "f2eef587",
   "metadata": {},
   "outputs": [],
   "source": [
    "import findspark\n",
    "findspark.init()\n",
    "import pyspark\n"
   ]
  },
  {
   "cell_type": "code",
   "execution_count": null,
   "id": "241cbc2e",
   "metadata": {},
   "outputs": [],
   "source": [
    "data = [(\"John\", \"Doe\", 29), (\"Jane\", \"Smith\", 34), (\"Sam\", \"Brown\", 23)]\n",
    "columns = [\"first_name\", \"last_name\", \"age\"]\n",
    "\n",
    "df = spark.createDataFrame(data, columns)\n",
    "df.show()\n"
   ]
  },
  {
   "cell_type": "code",
   "execution_count": null,
   "id": "128708de",
   "metadata": {},
   "outputs": [],
   "source": [
    "# Selecting specific columns\n",
    "df.select(\"first_name\", \"age\").show()\n",
    "\n",
    "# Filtering data\n",
    "df.filter(df[\"age\"] > 25).show()\n",
    "\n",
    "# Grouping and Aggregating\n",
    "df.groupBy(\"age\").count().show()\n",
    "\n",
    "df.createOrReplaceTempView(\"people\")\n",
    "result = spark.sql(\"SELECT * FROM people WHERE age > 25\")\n",
    "result.show()\n",
    "\n"
   ]
  },
  {
   "cell_type": "code",
   "execution_count": null,
   "id": "ae2d32d3",
   "metadata": {},
   "outputs": [],
   "source": [
    "rdd = spark.sparkContext.parallelize([1,2,3,4,5])\n",
    "squared_rdd = rdd.map(lambda x: x*x)\n",
    "print(squared_rdd.collect())\n"
   ]
  }
 ],
 "metadata": {
  "kernelspec": {
   "display_name": "stream_processing_venv",
   "language": "python",
   "name": "python3"
  },
  "language_info": {
   "codemirror_mode": {
    "name": "ipython",
    "version": 3
   },
   "file_extension": ".py",
   "mimetype": "text/x-python",
   "name": "python",
   "nbconvert_exporter": "python",
   "pygments_lexer": "ipython3",
   "version": "3.11.2"
  }
 },
 "nbformat": 4,
 "nbformat_minor": 5
}
