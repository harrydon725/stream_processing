{
 "cells": [
  {
   "cell_type": "code",
   "execution_count": null,
   "id": "3719dc9d",
   "metadata": {},
   "outputs": [],
   "source": [
    "import findspark\n",
    "findspark.init()\n",
    "from pyspark.sql import SparkSession\n",
    "from pyspark.sql.functions import col, regexp_replace, regexp_extract, when, trim, desc, sum as spark_sum\n",
    "import pandas as pd\n",
    "import numpy as np\n",
    "from pyspark.sql.types import IntegerType,LongType\n",
    "from pyspark.sql import functions as F\n",
    "\n",
    "spark = SparkSession.builder.appName(\"Spotify Data\").getOrCreate()"
   ]
  },
  {
   "cell_type": "code",
   "execution_count": 50,
   "id": "21d806f0",
   "metadata": {},
   "outputs": [],
   "source": [
    "def to_long_safe(x):\n",
    "    try:\n",
    "        return int(x)\n",
    "    except (ValueError, TypeError):\n",
    "        return 0\n",
    "    \n",
    "to_int_udf = F.udf(to_long_safe, LongType())\n",
    "\n",
    "df = df.withColumn(\"streams_int\", to_int_udf(F.col(\"streams\")))"
   ]
  },
  {
   "cell_type": "code",
   "execution_count": null,
   "id": "bb438291",
   "metadata": {},
   "outputs": [],
   "source": [
    "path = \"../spotify-2023.csv\"\n",
    "df = (\n",
    "    spark.read\n",
    "         .option(\"header\", \"true\")\n",
    "         .option(\"sep\", \",\")\n",
    "         .option(\"quote\", '\"')\n",
    "         .option(\"escape\", '\"')\n",
    "         .option(\"multiLine\", \"true\")\n",
    "         .csv(path)\n",
    ")"
   ]
  },
  {
   "cell_type": "code",
   "execution_count": 13,
   "id": "df937ce0",
   "metadata": {},
   "outputs": [],
   "source": [
    "df = df.withColumn(\"streams_int\", to_int_udf(F.col(\"streams\")))"
   ]
  },
  {
   "cell_type": "code",
   "execution_count": 51,
   "id": "b9a5f0af",
   "metadata": {},
   "outputs": [],
   "source": [
    "df_cleaned = df.sort(df.streams_int.desc())"
   ]
  },
  {
   "cell_type": "code",
   "execution_count": 52,
   "id": "5bec0ebe",
   "metadata": {},
   "outputs": [
    {
     "name": "stdout",
     "output_type": "stream",
     "text": [
      "+--------------------+--------------------+------------+-------------+--------------+------------+--------------------+-----------------+----------+------------------+---------------+-------------------+----------------+----------------+---+---+-----+--------------+---------+--------+--------------+------------------+----------+-------------+-----------+\n",
      "|          track_name|      artist(s)_name|artist_count|released_year|released_month|released_day|in_spotify_playlists|in_spotify_charts|   streams|in_apple_playlists|in_apple_charts|in_deezer_playlists|in_deezer_charts|in_shazam_charts|bpm|key| mode|danceability_%|valence_%|energy_%|acousticness_%|instrumentalness_%|liveness_%|speechiness_%|streams_int|\n",
      "+--------------------+--------------------+------------+-------------+--------------+------------+--------------------+-----------------+----------+------------------+---------------+-------------------+----------------+----------------+---+---+-----+--------------+---------+--------+--------------+------------------+----------+-------------+-----------+\n",
      "|     Blinding Lights|          The Weeknd|           1|         2019|            11|          29|               43899|               69|3703895074|               672|            199|              3,421|              20|            NULL|171| C#|Major|            50|       38|      80|             0|                 0|         9|            7| 3703895074|\n",
      "|        Shape of You|          Ed Sheeran|           1|         2017|             1|           6|               32181|               10|3562543890|                33|              0|              6,808|               7|               0| 96| C#|Minor|            83|       93|      65|            58|                 0|         9|            8| 3562543890|\n",
      "|   Someone You Loved|       Lewis Capaldi|           1|         2018|            11|           8|               17836|               53|2887241814|               440|            125|              1,800|               0|            NULL|110| C#|Major|            50|       45|      41|            75|                 0|        11|            3| 2887241814|\n",
      "|        Dance Monkey|         Tones and I|           1|         2019|             5|          10|               24529|                0|2864791672|               533|            167|              3,595|               6|            NULL| 98| F#|Minor|            82|       54|      59|            69|                 0|        18|           10| 2864791672|\n",
      "|Sunflower - Spide...|Post Malone, Swae...|           2|         2018|            10|           9|               24094|               78|2808096550|               372|            117|                843|               4|              69| 90|  D|Major|            76|       91|      50|            54|                 0|         7|            5| 2808096550|\n",
      "+--------------------+--------------------+------------+-------------+--------------+------------+--------------------+-----------------+----------+------------------+---------------+-------------------+----------------+----------------+---+---+-----+--------------+---------+--------+--------------+------------------+----------+-------------+-----------+\n",
      "only showing top 5 rows\n"
     ]
    }
   ],
   "source": [
    "df_cleaned.show(5)"
   ]
  }
 ],
 "metadata": {
  "kernelspec": {
   "display_name": "stream_processing_venv",
   "language": "python",
   "name": "python3"
  },
  "language_info": {
   "codemirror_mode": {
    "name": "ipython",
    "version": 3
   },
   "file_extension": ".py",
   "mimetype": "text/x-python",
   "name": "python",
   "nbconvert_exporter": "python",
   "pygments_lexer": "ipython3",
   "version": "3.11.2"
  }
 },
 "nbformat": 4,
 "nbformat_minor": 5
}
