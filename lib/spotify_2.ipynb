{
 "cells": [
  {
   "cell_type": "code",
   "execution_count": 2,
   "id": "3719dc9d",
   "metadata": {},
   "outputs": [
    {
     "name": "stderr",
     "output_type": "stream",
     "text": [
      "WARNING: Using incubator modules: jdk.incubator.vector\n",
      "Using Spark's default log4j profile: org/apache/spark/log4j2-defaults.properties\n",
      "Setting default log level to \"WARN\".\n",
      "To adjust logging level use sc.setLogLevel(newLevel). For SparkR, use setLogLevel(newLevel).\n",
      "25/10/29 11:24:44 WARN NativeCodeLoader: Unable to load native-hadoop library for your platform... using builtin-java classes where applicable\n"
     ]
    }
   ],
   "source": [
    "import findspark\n",
    "findspark.init()\n",
    "from pyspark.sql import SparkSession\n",
    "from pyspark.sql.functions import col, regexp_replace, regexp_extract, when, trim, desc, sum as spark_sum, expr, split, explode\n",
    "import pandas as pd\n",
    "import numpy as np\n",
    "from pyspark.sql.types import IntegerType,LongType\n",
    "from pyspark.sql import functions as F\n",
    "\n",
    "spark = SparkSession.builder.appName(\"Spotify Data\").getOrCreate()"
   ]
  },
  {
   "cell_type": "markdown",
   "id": "9ba749bd",
   "metadata": {},
   "source": [
    "## Instructions:\n",
    "\n",
    "### Big Task 1\n",
    "Task 1 - top 5 tracks by streams\n",
    " - Run import cell(1)\n",
    " - Run Read CSV cell(2)\n",
    " - Run Streams_int column cell(4)\n",
    " - Run Sort and output cell(5)\n",
    "\n",
    "Task 2 - Top 5 songs across all platforms\n",
    " - Run imports cell(1)\n",
    " - Run CSV Read cell(2)\n",
    " - Run integer conversion cell(3)\n",
    " - Run Sort and output Cell(6)\n",
    "\n",
    "I don't see any crossover between the songs between the outpusts - which is suprising as you would assume highest streaming = highest charting.\n",
    "\n",
    "### Big Task 3\n",
    "\n",
    "Task - Artist with highest number of spotify charts\n",
    " - Run imports cell(1)\n",
    " - Run CSV read cell(2)\n",
    " - Run DF clean cell(3)\n",
    " - Run Artist DF clean(8)\n",
    " - Run print artists(9)\n",
    "\n",
    "### Big Task 4\n",
    "\n",
    "Task - Find the tracks with danceability over 80\n",
    " - Run imports cell(1)\n",
    " - Run CSV read cell(2)\n",
    " - Run SQL query cell(10)"
   ]
  },
  {
   "cell_type": "code",
   "execution_count": 6,
   "id": "bb438291",
   "metadata": {},
   "outputs": [],
   "source": [
    "path = \"../spotify-2023.csv\"\n",
    "df = (\n",
    "    spark.read\n",
    "         .option(\"header\", \"true\")\n",
    "         .option(\"sep\", \",\")\n",
    "         .option(\"quote\", '\"')\n",
    "         .option(\"escape\", '\"')\n",
    "         .option(\"multiLine\", \"true\")\n",
    "         .csv(path)\n",
    ")\n",
    "\n",
    "df =df.withColumnRenamed(\"artist(s)_name\", \"artists\")\n",
    "df =df.withColumnRenamed(\"danceability_%\", \"danceability\")"
   ]
  },
  {
   "cell_type": "code",
   "execution_count": 28,
   "id": "21d806f0",
   "metadata": {},
   "outputs": [],
   "source": [
    "def to_long_safe(x):\n",
    "    try:\n",
    "        return int(x)\n",
    "    except (ValueError, TypeError):\n",
    "        return 0\n",
    "    \n",
    "def uncharted(x):\n",
    "    if int(x) == 0:\n",
    "        return 1000\n",
    "    else:\n",
    "        return int(x)\n",
    "\n",
    "    \n",
    "\n",
    "df = (df\n",
    "      .withColumn(\"in_spotify_charts\", expr(\"try_cast(in_spotify_charts as bigint)\"))\n",
    "      .withColumn(\"in_apple_charts\", expr(\"try_cast(in_apple_charts as bigint)\"))\n",
    "      .withColumn(\"in_deezer_charts\", expr(\"try_cast(in_deezer_charts as bigint)\"))\n",
    "\n",
    ")\n",
    "\n",
    "to_int_udf = F.udf(to_long_safe, LongType())\n",
    "uncharted_udf = F.udf(uncharted, LongType())\n",
    "\n",
    "\n",
    "df = df.withColumn(\"in_apple_charts\", uncharted_udf(F.col(\"in_apple_charts\")))\n",
    "df = df.withColumn(\"in_deezer_charts\", uncharted_udf(F.col(\"in_deezer_charts\")))\n",
    "df = df.withColumn(\"in_spotify_charts\", uncharted_udf(F.col(\"in_spotify_charts\")))\n",
    "\n",
    "df = df.withColumn(\"streams_int\", to_int_udf(F.col(\"streams\")))\n",
    "\n",
    "\n",
    "df = df.withColumn(\"overall_chart_rating\", \n",
    "                   col(\"in_spotify_charts\")\n",
    "                   + col(\"in_apple_charts\")\n",
    "                   + col(\"in_deezer_charts\")\n",
    "                   )"
   ]
  },
  {
   "cell_type": "code",
   "execution_count": 13,
   "id": "df937ce0",
   "metadata": {},
   "outputs": [],
   "source": [
    "df = df.withColumn(\"streams_int\", to_int_udf(F.col(\"streams\")))"
   ]
  },
  {
   "cell_type": "code",
   "execution_count": null,
   "id": "b9a5f0af",
   "metadata": {},
   "outputs": [],
   "source": [
    "df_tracks = df.sort(df.streams_int.desc())\n",
    "df_tracks.show(5)"
   ]
  },
  {
   "cell_type": "code",
   "execution_count": null,
   "id": "2edcb075",
   "metadata": {},
   "outputs": [
    {
     "name": "stdout",
     "output_type": "stream",
     "text": [
      "+--------------------+--------------------+------------+-------------+--------------+------------+--------------------+-----------------+---------+------------------+---------------+-------------------+----------------+----------------+---+---+-----+--------------+---------+--------+--------------+------------------+----------+-------------+-----------+----------------+\n",
      "|          track_name|      artist(s)_name|artist_count|released_year|released_month|released_day|in_spotify_playlists|in_spotify_charts|  streams|in_apple_playlists|in_apple_charts|in_deezer_playlists|in_deezer_charts|in_shazam_charts|bpm|key| mode|danceability_%|valence_%|energy_%|acousticness_%|instrumentalness_%|liveness_%|speechiness_%|streams_int|avg_chart_rating|\n",
      "+--------------------+--------------------+------------+-------------+--------------+------------+--------------------+-----------------+---------+------------------+---------------+-------------------+----------------+----------------+---+---+-----+--------------+---------+--------+--------------+------------------+----------+-------------+-----------+----------------+\n",
      "|              Jordan|         Ryan Castro|           1|         2021|             4|          30|                2844|                2|394030335|                29|              2|                 35|               1|               0|180| A#|Minor|            80|       71|      68|             6|                 0|        10|           37|  394030335|               5|\n",
      "|Arc��ngel: Bzrp M...|  Arcangel, Bizarrap|           2|         2023|             3|          22|                 654|                3|100409613|                11|              3|                 18|               1|               1|124|  B|Minor|            72|       79|      78|            55|                 0|        15|           30|  100409613|               7|\n",
      "|              Pipoco|Melody, Ana Caste...|           3|         2022|             5|          20|                1112|                4|191873381|                22|              2|                 65|               1|               3|135| G#|Major|            77|       74|      74|            47|                 0|        34|            8|  191873381|               7|\n",
      "|      Zona De Perigo|         Leo Santana|           1|         2022|            12|           8|                 531|                4|134294498|                20|              1|                 71|               2|               0|135|  F|Major|            81|       97|      77|            75|                 0|        35|            3|  134294498|               7|\n",
      "|           Cart��o B|MC Caverinha, Kay...|           2|         2023|             5|          11|                 269|                4| 71573339|                 7|              2|                 30|               1|              11|108|  A|Minor|            84|       55|      47|            26|                 0|        20|           64|   71573339|               7|\n",
      "+--------------------+--------------------+------------+-------------+--------------+------------+--------------------+-----------------+---------+------------------+---------------+-------------------+----------------+----------------+---+---+-----+--------------+---------+--------+--------------+------------------+----------+-------------+-----------+----------------+\n",
      "only showing top 5 rows\n"
     ]
    }
   ],
   "source": [
    "df_charts = df.sort(df.overall_chart_rating.asc())\n",
    "df_charts.show(5)\n"
   ]
  },
  {
   "cell_type": "code",
   "execution_count": null,
   "id": "89dcdfb3",
   "metadata": {},
   "outputs": [
    {
     "name": "stdout",
     "output_type": "stream",
     "text": [
      "+----------------+-----+\n",
      "|         artists|total|\n",
      "+----------------+-----+\n",
      "|    Taylor Swift|   34|\n",
      "|      The Weeknd|   22|\n",
      "|       Bad Bunny|   19|\n",
      "|             SZA|   19|\n",
      "|    Harry Styles|   17|\n",
      "|  Kendrick Lamar|   12|\n",
      "|   Morgan Wallen|   11|\n",
      "|      Ed Sheeran|    9|\n",
      "|            Feid|    8|\n",
      "|Drake, 21 Savage|    8|\n",
      "|             BTS|    8|\n",
      "|        Labrinth|    7|\n",
      "|  Olivia Rodrigo|    7|\n",
      "|        Doja Cat|    6|\n",
      "|        NewJeans|    6|\n",
      "|   Billie Eilish|    5|\n",
      "|         Quevedo|    4|\n",
      "|         Karol G|    4|\n",
      "|             IVE|    4|\n",
      "|           Adele|    4|\n",
      "+----------------+-----+\n",
      "only showing top 20 rows\n"
     ]
    }
   ],
   "source": [
    "## This doesnt work, only counts for number of songs(not chart placements) as doesnt take into account featuring artists\n",
    "\n",
    "df.createOrReplaceTempView(\"people\")\n",
    "result = spark.sql(\"SELECT artists, count(*) as total from people GROUP BY artists ORDER BY total DESC;\")\n",
    "result.show()"
   ]
  },
  {
   "cell_type": "code",
   "execution_count": 4,
   "id": "15193a9e",
   "metadata": {},
   "outputs": [],
   "source": [
    "df_artists = (\n",
    "    df\n",
    "    .withColumn(\"in_spotify_charts_i\", expr(\"try_cast(in_spotify_charts as int)\"))\n",
    "    .filter((col(\"in_spotify_charts_i\") >= 1) & (col(\"in_spotify_charts_i\") <= 1000))\n",
    "    .withColumn(\"artist\", explode(split(col(\"artists\"), \",\")))\n",
    "    .withColumn(\"artist\", trim(col(\"artist\")))\n",
    ")\n",
    "\n",
    "artist_counts = (\n",
    "    df_artists\n",
    "    .groupBy(\"artist\")\n",
    "    .agg(F.count(\"*\").alias(\"chart_appearances\"))\n",
    "    .orderBy(desc(\"chart_appearances\"))\n",
    ")"
   ]
  },
  {
   "cell_type": "code",
   "execution_count": 5,
   "id": "6e92a082",
   "metadata": {},
   "outputs": [
    {
     "name": "stdout",
     "output_type": "stream",
     "text": [
      "+--------------+-----------------+\n",
      "|        artist|chart_appearances|\n",
      "+--------------+-----------------+\n",
      "|     Bad Bunny|               30|\n",
      "|  Taylor Swift|               23|\n",
      "|    The Weeknd|               18|\n",
      "|    Peso Pluma|               16|\n",
      "|          Feid|               15|\n",
      "|       Quevedo|               11|\n",
      "|Rauw Alejandro|               11|\n",
      "|       Karol G|               10|\n",
      "|  Harry Styles|               10|\n",
      "|  Metro Boomin|                9|\n",
      "+--------------+-----------------+\n",
      "only showing top 10 rows\n"
     ]
    }
   ],
   "source": [
    "artist_counts.show(10)"
   ]
  },
  {
   "cell_type": "code",
   "execution_count": 8,
   "id": "13060f71",
   "metadata": {},
   "outputs": [
    {
     "name": "stdout",
     "output_type": "stream",
     "text": [
      "+--------------------+------------+---+\n",
      "|          track_name|danceability|bpm|\n",
      "+--------------------+------------+---+\n",
      "|Popular (with Pla...|          85| 99|\n",
      "|             Hey Mor|          90| 98|\n",
      "|              Efecto|          80| 98|\n",
      "|        Dance Monkey|          82| 98|\n",
      "|           Pantysito|          83| 98|\n",
      "|               Party|          83| 97|\n",
      "|                POP!|          80| 97|\n",
      "|       En La De Ella|          82| 97|\n",
      "|            Gasolina|          86| 96|\n",
      "|        Shape of You|          83| 96|\n",
      "|        Shorty Party|          93| 96|\n",
      "|Una Noche en Medell�|          87| 96|\n",
      "|         Rich Spirit|          85| 96|\n",
      "|Yo Voy (feat. Dad...|          81| 95|\n",
      "|       Es un Secreto|          84| 95|\n",
      "|    The Next Episode|          92| 95|\n",
      "|             Excuses|          84| 95|\n",
      "|Feliz Cumplea��os Fe|          87| 95|\n",
      "|       Gato de Noche|          89| 94|\n",
      "|   Mas Rica Que Ayer|          82| 94|\n",
      "+--------------------+------------+---+\n",
      "only showing top 20 rows\n"
     ]
    }
   ],
   "source": [
    "df.createOrReplaceTempView(\"people\")\n",
    "result = spark.sql(\"SELECT track_name, danceability, bpm FROM people WHERE danceability > 79 Order by bpm DESC\")\n",
    "result.show()"
   ]
  }
 ],
 "metadata": {
  "kernelspec": {
   "display_name": "stream_processing_venv",
   "language": "python",
   "name": "python3"
  },
  "language_info": {
   "codemirror_mode": {
    "name": "ipython",
    "version": 3
   },
   "file_extension": ".py",
   "mimetype": "text/x-python",
   "name": "python",
   "nbconvert_exporter": "python",
   "pygments_lexer": "ipython3",
   "version": "3.11.2"
  }
 },
 "nbformat": 4,
 "nbformat_minor": 5
}
